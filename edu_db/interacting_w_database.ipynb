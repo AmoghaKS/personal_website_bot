{
 "metadata": {
  "language_info": {
   "codemirror_mode": {
    "name": "ipython",
    "version": 3
   },
   "file_extension": ".py",
   "mimetype": "text/x-python",
   "name": "python",
   "nbconvert_exporter": "python",
   "pygments_lexer": "ipython3",
   "version": "3.7.6-final"
  },
  "orig_nbformat": 2,
  "kernelspec": {
   "name": "python3",
   "display_name": "Python 3"
  }
 },
 "nbformat": 4,
 "nbformat_minor": 2,
 "cells": [
  {
   "cell_type": "code",
   "execution_count": 1,
   "metadata": {},
   "outputs": [],
   "source": [
    "# !pip install pandas"
   ]
  },
  {
   "cell_type": "code",
   "execution_count": 2,
   "metadata": {},
   "outputs": [],
   "source": [
    "import sqlite3\n",
    "import random\n",
    "#import pandas as pd"
   ]
  },
  {
   "source": [
    "In command line: \n",
    "\n",
    "```\n",
    "#launch sqlite command line tool & create database called resourcesDB\n",
    "sqlite3 resourcesDB   \n",
    "\n",
    "# tab-delimted file\n",
    ".separator \"\\t\"\n",
    "\n",
    "# create new table called \"eduresource\" w/ the content from our tsv\n",
    ".import edu_resource.csv eduresource\n",
    "```"
   ],
   "cell_type": "markdown",
   "metadata": {}
  },
  {
   "cell_type": "code",
   "execution_count": 3,
   "metadata": {},
   "outputs": [],
   "source": [
    "# Next up: connecting to our data\n",
    "# online tutorial: https://www.sqlitetutorial.net/sqlite-python/sqlite-python-select/"
   ]
  },
  {
   "cell_type": "code",
   "execution_count": 4,
   "metadata": {},
   "outputs": [
    {
     "output_type": "stream",
     "name": "stdout",
     "text": [
      "Try the videos NLP 4 Devs by Rachael Tatman. You can find it at https://www.youtube.com/playlist?list=PL75e0qA87dlFJiNMeKltWImhQxfFwaxvv.\n"
     ]
    }
   ],
   "source": [
    "def create_connection(db_file):\n",
    "    \"\"\" create a database connection to the SQLite database\n",
    "        specified by the db_file\n",
    "    :param db_file: database file\n",
    "    :return: Connection object or None\n",
    "    \"\"\"\n",
    "    conn = None\n",
    "    try:\n",
    "        conn = sqlite3.connect(db_file)\n",
    "    except Error as e:\n",
    "        print(e)\n",
    "\n",
    "    return conn\n",
    "\n",
    "def select_by_slot(conn, slot_name, slot_value):\n",
    "    \"\"\"\n",
    "    Query all rows in the tasks table\n",
    "    :param conn: the Connection object\n",
    "    :return:\n",
    "    \"\"\"\n",
    "    cur = conn.cursor()\n",
    "    cur.execute(f\"\"\"SELECT * FROM eduresource\n",
    "                WHERE {slot_name}='{slot_value}'\"\"\")\n",
    "\n",
    "    rows = cur.fetchall()\n",
    "\n",
    "    if len(list(rows)) < 1:\n",
    "        print(\"There are no resources matching your query.\")\n",
    "    else:\n",
    "        for row in random.sample(rows, 1):\n",
    "            print(f\"Try the {(row[4]).lower()} {row[0]} by {row[1]}. You can find it at {row[2]}.\")\n",
    "\n",
    "select_by_slot(create_connection(\"resourcesDB\"),\n",
    "    slot_name=\"Type\",slot_value=\"Videos\")"
   ]
  }
 ]
}