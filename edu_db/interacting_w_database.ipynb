{
 "metadata": {
  "language_info": {
   "codemirror_mode": {
    "name": "ipython",
    "version": 3
   },
   "file_extension": ".py",
   "mimetype": "text/x-python",
   "name": "python",
   "nbconvert_exporter": "python",
   "pygments_lexer": "ipython3",
   "version": "3.7.6-final"
  },
  "orig_nbformat": 2,
  "kernelspec": {
   "name": "python3",
   "display_name": "Python 3",
   "language": "python"
  }
 },
 "nbformat": 4,
 "nbformat_minor": 2,
 "cells": [
  {
   "cell_type": "code",
   "execution_count": 1,
   "metadata": {},
   "outputs": [],
   "source": [
    "# !pip install pandas"
   ]
  },
  {
   "cell_type": "code",
   "execution_count": 2,
   "metadata": {},
   "outputs": [],
   "source": [
    "import sqlite3\n",
    "import random\n",
    "#import pandas as pd"
   ]
  },
  {
   "source": [
    "In command line: \n",
    "\n",
    "```\n",
    "#launch sqlite command line tool & create database called resourcesDB\n",
    "sqlite3 resourcesDB   \n",
    "\n",
    "# tab-delimted file\n",
    ".separator \"\\t\"\n",
    "\n",
    "# create new table called \"eduresource\" w/ the content from our tsv\n",
    ".import edu_resource.csv eduresource\n",
    "```"
   ],
   "cell_type": "markdown",
   "metadata": {}
  },
  {
   "cell_type": "code",
   "execution_count": 3,
   "metadata": {},
   "outputs": [],
   "source": [
    "# Next up: connecting to our data\n",
    "# online tutorial: https://www.sqlitetutorial.net/sqlite-python/sqlite-python-select/"
   ]
  },
  {
   "cell_type": "code",
   "execution_count": 3,
   "metadata": {},
   "outputs": [],
   "source": [
    "# add .csv to sqlite table\n",
    "import pandas as pd \n",
    "import sqlite3\n",
    "\n",
    "conn = sqlite3.connect(\"../actions/resourcesDB\")\n",
    "df = pd.read_csv(\"../edu_resource.csv\", sep='\\t')\n",
    "df.to_sql(\"eduresources\", conn, if_exists='append', index=False)\n"
   ]
  },
  {
   "cell_type": "code",
   "execution_count": 2,
   "metadata": {},
   "outputs": [],
   "source": [
    "# delete everything from eduresrouces\n",
    "import sqlite3\n",
    "\n",
    "sql = 'DELETE FROM eduresources'\n",
    "conn = sqlite3.connect(\"resourcesDB\")\n",
    "cur = conn.cursor()\n",
    "cur.execute(sql)\n",
    "conn.commit()"
   ]
  },
  {
   "cell_type": "code",
   "execution_count": null,
   "metadata": {},
   "outputs": [],
   "source": []
  },
  {
   "cell_type": "code",
   "execution_count": null,
   "metadata": {},
   "outputs": [],
   "source": []
  },
  {
   "cell_type": "code",
   "execution_count": 4,
   "metadata": {},
   "outputs": [
    {
     "output_type": "stream",
     "name": "stdout",
     "text": [
      "Try the videos NLP 4 Devs by Rachael Tatman. You can find it at https://www.youtube.com/playlist?list=PL75e0qA87dlFJiNMeKltWImhQxfFwaxvv.\n"
     ]
    }
   ],
   "source": [
    "def create_connection(db_file):\n",
    "    \"\"\" create a database connection to the SQLite database\n",
    "        specified by the db_file\n",
    "    :param db_file: database file\n",
    "    :return: Connection object or None\n",
    "    \"\"\"\n",
    "    conn = None\n",
    "    try:\n",
    "        conn = sqlite3.connect(db_file)\n",
    "    except Error as e:\n",
    "        print(e)\n",
    "\n",
    "    return conn\n",
    "\n",
    "def select_by_slot(conn, slot_name, slot_value):\n",
    "    \"\"\"\n",
    "    Query all rows in the tasks table\n",
    "    :param conn: the Connection object\n",
    "    :return:\n",
    "    \"\"\"\n",
    "    cur = conn.cursor()\n",
    "    cur.execute(f\"\"\"SELECT * FROM eduresource\n",
    "                WHERE {slot_name}='{slot_value}'\"\"\")\n",
    "\n",
    "    rows = cur.fetchall()\n",
    "\n",
    "    if len(list(rows)) < 1:\n",
    "        print(\"There are no resources matching your query.\")\n",
    "    else:\n",
    "        for row in random.sample(rows, 1):\n",
    "            print(f\"Try the {(row[4]).lower()} {row[0]} by {row[1]}. You can find it at {row[2]}.\")\n",
    "\n",
    "select_by_slot(create_connection(\"resourcesDB\"),\n",
    "    slot_name=\"Type\",slot_value=\"Videos\")"
   ]
  },
  {
   "cell_type": "code",
   "execution_count": 1,
   "metadata": {},
   "outputs": [],
   "source": [
    "# This files contains your custom actions which can be used to run\n",
    "# custom Python code.\n",
    "#\n",
    "# See this guide on how to implement these action:\n",
    "# https://rasa.com/docs/rasa/custom-actions\n",
    "\n",
    "\n",
    "# This is a simple example for a custom action which utters \"Hello World!\"\n",
    "\n",
    "from typing import Any, Text, Dict, List\n",
    "\n",
    "from rasa_sdk import Action, Tracker\n",
    "from rasa_sdk.executor import CollectingDispatcher\n",
    "\n",
    "import sqlite3\n",
    "import random\n",
    "\n",
    "\n",
    "class QueryResourceType(Action):\n",
    "\n",
    "    def name(self) -> Text:\n",
    "        return \"query_resource_type\"\n",
    "\n",
    "    def run(self, dispatcher: CollectingDispatcher,\n",
    "            tracker: Tracker,\n",
    "            domain: Dict[Text, Any]) -> List[Dict[Text, Any]]:\n",
    "\n",
    "        conn = create_connection(self, db_file=\"../edu_db/resourcesDB\")\n",
    "\n",
    "        slot_value = tracker.get_slot(\"resource_type\")\n",
    "        slot_name = \"Type\"\n",
    "\n",
    "        get_query_results = select_by_slot(self, conn=conn,\n",
    "            slot_name=slot_name,slot_value=slot_value)\n",
    "        dispatcher.utter_message(text=get_query_results)\n",
    "\n",
    "        return []\n",
    "\n",
    "    def create_connection(db_file):\n",
    "        \"\"\" create a database connection to the SQLite database\n",
    "            specified by the db_file\n",
    "        :param db_file: database file\n",
    "        :return: Connection object or None\n",
    "        \"\"\"\n",
    "        conn = None\n",
    "        try:\n",
    "            conn = sqlite3.connect(db_file)\n",
    "        except Error as e:\n",
    "            print(e)\n",
    "\n",
    "        return conn\n",
    "\n",
    "    def select_by_slot(conn, slot_name, slot_value):\n",
    "        \"\"\"\n",
    "        Query all rows in the tasks table\n",
    "        :param conn: the Connection object\n",
    "        :return:\n",
    "        \"\"\"\n",
    "        cur = conn.cursor()\n",
    "        cur.execute(f\"\"\"SELECT * FROM eduresource\n",
    "                    WHERE {slot_name}='{slot_value}'\"\"\")\n",
    "\n",
    "        rows = cur.fetchall()\n",
    "\n",
    "        if len(list(rows)) < 1:\n",
    "            return[(\"There are no resources matching your query.\")]\n",
    "        else:\n",
    "            for row in random.sample(rows, 1):\n",
    "                return[print(f\"Try the {(row[4]).lower()} {row[0]} by {row[1]}. You can find it at {row[2]}.\")]"
   ]
  },
  {
   "cell_type": "code",
   "execution_count": 3,
   "metadata": {},
   "outputs": [
    {
     "output_type": "execute_result",
     "data": {
      "text/plain": [
       "<sqlite3.Connection at 0x1bcfd3dff10>"
      ]
     },
     "metadata": {},
     "execution_count": 3
    }
   ],
   "source": [
    "QueryResourceType.create_connection(\"resourcesDB\")"
   ]
  }
 ]
}